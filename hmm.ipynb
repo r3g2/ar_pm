{
 "metadata": {
  "language_info": {
   "codemirror_mode": {
    "name": "ipython",
    "version": 3
   },
   "file_extension": ".py",
   "mimetype": "text/x-python",
   "name": "python",
   "nbconvert_exporter": "python",
   "pygments_lexer": "ipython3",
   "version": "3.8.8"
  },
  "orig_nbformat": 2,
  "kernelspec": {
   "name": "python388jvsc74a57bd0549230cf411fda5f56be261873b654e74a868630728663ba0a42d0e93140747a",
   "display_name": "Python 3.8.8 64-bit ('pm': conda)"
  }
 },
 "nbformat": 4,
 "nbformat_minor": 2,
 "cells": [
  {
   "cell_type": "code",
   "execution_count": 172,
   "metadata": {},
   "outputs": [],
   "source": [
    "import numpy as np\n",
    "import matplotlib.pyplot as plt\n",
    "from matplotlib import animation"
   ]
  },
  {
   "cell_type": "code",
   "execution_count": 5,
   "metadata": {},
   "outputs": [],
   "source": [
    "np.random.seed(2)"
   ]
  },
  {
   "cell_type": "code",
   "execution_count": 9,
   "metadata": {},
   "outputs": [],
   "source": [
    "class StateGrid:\n",
    "    def __init__(self,grid_matrix):\n",
    "        self.grid = grid_matrix\n",
    "        self.h = np.argmax(self.grid)\n",
    "\n",
    "\n",
    "    @classmethod\n",
    "    def initialize_random_grid(cls,size):\n",
    "        index_hidden = np.unravel_index(np.argmax(np.random.rand(*size)),size)\n",
    "        grid = np.zeros(size)\n",
    "        grid[index_hidden] = 1\n",
    "        return cls(grid)"
   ]
  },
  {
   "cell_type": "code",
   "execution_count": 10,
   "metadata": {},
   "outputs": [],
   "source": [
    "states = StateGrid.initialize_random_grid((3,3))"
   ]
  },
  {
   "cell_type": "code",
   "execution_count": 11,
   "metadata": {},
   "outputs": [],
   "source": [
    "transition_matrix = np.eye(3,3)"
   ]
  },
  {
   "cell_type": "code",
   "execution_count": 12,
   "metadata": {},
   "outputs": [
    {
     "output_type": "execute_result",
     "data": {
      "text/plain": [
       "array([[1., 0., 0.],\n",
       "       [0., 1., 0.],\n",
       "       [0., 0., 1.]])"
      ]
     },
     "metadata": {},
     "execution_count": 12
    }
   ],
   "source": [
    "transition_matrix"
   ]
  },
  {
   "cell_type": "code",
   "execution_count": 13,
   "metadata": {},
   "outputs": [
    {
     "output_type": "execute_result",
     "data": {
      "text/plain": [
       "array([[0., 0., 0.],\n",
       "       [0., 0., 0.],\n",
       "       [0., 1., 0.]])"
      ]
     },
     "metadata": {},
     "execution_count": 13
    }
   ],
   "source": [
    "states.grid.dot(transition_matrix)"
   ]
  },
  {
   "cell_type": "code",
   "execution_count": 14,
   "metadata": {},
   "outputs": [],
   "source": [
    "prior = np.random.rand(3,3)"
   ]
  },
  {
   "cell_type": "code",
   "execution_count": 15,
   "metadata": {},
   "outputs": [],
   "source": [
    "prior = prior/prior.sum()"
   ]
  },
  {
   "cell_type": "code",
   "execution_count": 16,
   "metadata": {},
   "outputs": [
    {
     "output_type": "execute_result",
     "data": {
      "text/plain": [
       "array([[0.06087432, 0.14170628, 0.12071917],\n",
       "       [0.03070324, 0.11716838, 0.04207835],\n",
       "       [0.17916738, 0.19482704, 0.11275584]])"
      ]
     },
     "metadata": {},
     "execution_count": 16
    }
   ],
   "source": [
    "prior"
   ]
  },
  {
   "cell_type": "code",
   "execution_count": 140,
   "metadata": {},
   "outputs": [],
   "source": [
    "class Observation:\n",
    "    def __init__(self, pos, value):\n",
    "        self.pos = pos\n",
    "        self.value = value\n",
    "\n",
    "    "
   ]
  },
  {
   "cell_type": "code",
   "execution_count": 163,
   "metadata": {},
   "outputs": [],
   "source": [
    "def normalize(a):\n",
    "    return a / a.sum()\n",
    "\n",
    "def update(likelihood,prior):\n",
    "    return normalize(likelihood * prior)\n",
    "\n",
    "def predict(belief,transition_matrix):\n",
    "    shape = belief.shape\n",
    "    if belief.ndim != 1:\n",
    "        belief = belief.ravel()\n",
    "    return np.reshape(belief.dot(transition_matrix),shape)\n",
    "\n",
    "\n",
    "def update_beliefs(observations,emission_matrix,belief):\n",
    "    for obs in observations:\n",
    "        likelihood = emission_matrix[obs.value]\n",
    "        new_belief = likelihood[1] * belief[obs.pos]\n",
    "        neg_belief = likelihood[0] * (1-belief[obs.pos])\n",
    "        normalized_new_belief = new_belief / (new_belief + neg_belief)\n",
    "        belief[obs.pos] = normalized_new_belief\n",
    "    return normalize(belief)\n",
    "        \n"
   ]
  },
  {
   "cell_type": "code",
   "execution_count": 126,
   "metadata": {},
   "outputs": [],
   "source": [
    "observations = [Observation((i,i),i%2) for i in range(3)]"
   ]
  },
  {
   "cell_type": "code",
   "execution_count": 127,
   "metadata": {},
   "outputs": [
    {
     "output_type": "stream",
     "name": "stdout",
     "text": [
      "(0, 0) 0\n(1, 1) 1\n(2, 2) 0\n"
     ]
    }
   ],
   "source": [
    "for o in observations:\n",
    "    print(o.pos,o.value)"
   ]
  },
  {
   "cell_type": "code",
   "execution_count": 128,
   "metadata": {},
   "outputs": [],
   "source": [
    "prior = np.zeros((3,3))\n",
    "prior[0,0] = 1"
   ]
  },
  {
   "cell_type": "code",
   "execution_count": 129,
   "metadata": {},
   "outputs": [
    {
     "output_type": "execute_result",
     "data": {
      "text/plain": [
       "array([[1., 0., 0.],\n",
       "       [0., 0., 0.],\n",
       "       [0., 0., 0.]])"
      ]
     },
     "metadata": {},
     "execution_count": 129
    }
   ],
   "source": [
    "prior"
   ]
  },
  {
   "cell_type": "code",
   "execution_count": 130,
   "metadata": {},
   "outputs": [],
   "source": [
    "alpha = 0.9\n",
    "beta = 0.2\n",
    "B = np.array([[1-beta, 1-alpha], [beta,alpha]])"
   ]
  },
  {
   "cell_type": "code",
   "execution_count": 131,
   "metadata": {},
   "outputs": [
    {
     "output_type": "execute_result",
     "data": {
      "text/plain": [
       "array([[0.8, 0.1],\n",
       "       [0.2, 0.9]])"
      ]
     },
     "metadata": {},
     "execution_count": 131
    }
   ],
   "source": [
    "B"
   ]
  },
  {
   "cell_type": "code",
   "execution_count": 132,
   "metadata": {},
   "outputs": [
    {
     "output_type": "execute_result",
     "data": {
      "text/plain": [
       "array([[1., 0., 0.],\n",
       "       [0., 0., 0.],\n",
       "       [0., 0., 0.]])"
      ]
     },
     "metadata": {},
     "execution_count": 132
    }
   ],
   "source": [
    "update_beliefs(observations,B,prior)"
   ]
  },
  {
   "cell_type": "code",
   "execution_count": 34,
   "metadata": {},
   "outputs": [
    {
     "output_type": "execute_result",
     "data": {
      "text/plain": [
       "array([[[0, 0, 0],\n",
       "        [1, 1, 1],\n",
       "        [2, 2, 2]],\n",
       "\n",
       "       [[0, 1, 2],\n",
       "        [0, 1, 2],\n",
       "        [0, 1, 2]]])"
      ]
     },
     "metadata": {},
     "execution_count": 34
    }
   ],
   "source": [
    "row,col = np.indices((3,3))"
   ]
  },
  {
   "cell_type": "code",
   "execution_count": 56,
   "metadata": {},
   "outputs": [],
   "source": [
    "a = np.array([[0.8, 0.8, 0.8],\n",
    " [0.2, 0.2, 0.2]])"
   ]
  },
  {
   "cell_type": "code",
   "execution_count": 69,
   "metadata": {},
   "outputs": [
    {
     "output_type": "execute_result",
     "data": {
      "text/plain": [
       "array([0.8, 0.8, 0.8])"
      ]
     },
     "metadata": {},
     "execution_count": 69
    }
   ],
   "source": [
    "a[a.argmax(axis=0),np.arange(a.shape[1])]"
   ]
  },
  {
   "cell_type": "code",
   "execution_count": 72,
   "metadata": {},
   "outputs": [
    {
     "output_type": "execute_result",
     "data": {
      "text/plain": [
       "array([False, False, False])"
      ]
     },
     "metadata": {},
     "execution_count": 72
    }
   ],
   "source": [
    "m = a.max(axis=0)\n",
    "sampled = np.random.rand(3)\n"
   ]
  },
  {
   "cell_type": "code",
   "execution_count": 77,
   "metadata": {},
   "outputs": [],
   "source": [
    "i = a.argmax(axis=0)"
   ]
  },
  {
   "cell_type": "code",
   "execution_count": 141,
   "metadata": {},
   "outputs": [],
   "source": [
    "def sample_observations(state,emission_matrix,num_obs=3):\n",
    "    grid_size = state.shape\n",
    "    inds = np.random.randint(0,grid_size[0]*grid_size[1],size=3)\n",
    "    rows,cols = np.unravel_index(inds,grid_size)\n",
    "    sampled_states = [state[r,c] for r,c in zip(rows,cols)]\n",
    "    #print(inds,sampled_states)\n",
    "    emission_probs = emission_matrix[:,np.array(sampled_states,dtype=int)]\n",
    "    #print(emission_probs)\n",
    "    sampled_obs = np.random.rand(num_obs)\n",
    "    #print(sampled_obs)\n",
    "    maxes = emission_probs.max(axis=0)\n",
    "    ind_max = emission_probs.argmax(axis=0)\n",
    "    mask = sampled_obs < maxes\n",
    "    obs = np.zeros((num_obs,))\n",
    "    obs = []\n",
    "    #print(maxes,ind_max,mask,obs)\n",
    "    for i in range(len(mask)):\n",
    "        val = ind_max[i] if mask[i] else 1 - ind_max[i]\n",
    "        pos = (rows[i],cols[i])\n",
    "        obs.append(Observation(pos,val))\n",
    "    return obs\n",
    "\n",
    "def sample_next_state(state,transition_matrix):\n",
    "    sample_probs = transition_matrix[state.ravel()==1].squeeze()\n",
    "    ind = np.random.choice(np.arange(sample_probs.size),p=sample_probs)\n",
    "    row,col = np.unravel_index(ind,state.shape)\n",
    "    new_state = np.zeros(state.shape)\n",
    "    new_state[row,col] = 1\n",
    "    return new_state"
   ]
  },
  {
   "cell_type": "code",
   "execution_count": 143,
   "metadata": {},
   "outputs": [
    {
     "output_type": "execute_result",
     "data": {
      "text/plain": [
       "array([[1., 0., 0.],\n",
       "       [0., 0., 0.],\n",
       "       [0., 0., 0.]])"
      ]
     },
     "metadata": {},
     "execution_count": 143
    }
   ],
   "source": [
    "prior"
   ]
  },
  {
   "cell_type": "code",
   "execution_count": 148,
   "metadata": {},
   "outputs": [
    {
     "output_type": "execute_result",
     "data": {
      "text/plain": [
       "1"
      ]
     },
     "metadata": {},
     "execution_count": 148
    }
   ],
   "source": []
  },
  {
   "cell_type": "code",
   "execution_count": 122,
   "metadata": {},
   "outputs": [],
   "source": [
    "t = np.ones((9,9))\n",
    "t /= t.sum(axis=1)\n",
    "s_p = t[prior.ravel() == 1].squeeze()"
   ]
  },
  {
   "cell_type": "code",
   "execution_count": 138,
   "metadata": {},
   "outputs": [
    {
     "output_type": "execute_result",
     "data": {
      "text/plain": [
       "array([0. , 0. , 0.5, 0.5, 0. , 0. , 0. , 0. , 0. ])"
      ]
     },
     "metadata": {},
     "execution_count": 138
    }
   ],
   "source": [
    "belief = np.zeros(9)\n",
    "belief[2:4] = 0.5\n",
    "belief"
   ]
  },
  {
   "cell_type": "code",
   "execution_count": 112,
   "metadata": {},
   "outputs": [],
   "source": [
    "s_pi = np.random.choice(np.arange(s_p.size),p=s_p)"
   ]
  },
  {
   "cell_type": "code",
   "execution_count": 113,
   "metadata": {},
   "outputs": [
    {
     "output_type": "execute_result",
     "data": {
      "text/plain": [
       "0"
      ]
     },
     "metadata": {},
     "execution_count": 113
    }
   ],
   "source": [
    "s_pi"
   ]
  },
  {
   "cell_type": "code",
   "execution_count": 219,
   "metadata": {},
   "outputs": [],
   "source": [
    "class HMM:\n",
    "    def __init__(self,transmission_matrix,emission_matrix,prior,state):\n",
    "        self.transmission_matrix = transmission_matrix\n",
    "        self.emission_matrix = emission_matrix\n",
    "        self.prior = prior\n",
    "        self.state = state\n",
    "        \n",
    "    def run(self,length):\n",
    "        transition_belief_history = [self.prior]\n",
    "        correction_belief_history = [self.prior]\n",
    "        state_history = [self.state]\n",
    "        obs_history = []\n",
    "        # In the case that we know the prior\n",
    "        belief = self.prior\n",
    "        for t in range(1,length):\n",
    "            new_state = sample_next_state(state_history[t-1],self.transmission_matrix)\n",
    "            state_history.append(new_state)\n",
    "            observations = sample_observations(new_state,self.emission_matrix)\n",
    "            obs_history.append(observations)\n",
    "            belief = predict(belief,self.transmission_matrix)\n",
    "            print(\"Transition Model Belief: \", belief)\n",
    "            transition_belief_history.append(belief)\n",
    "            belief =update_beliefs(observations,self.emission_matrix,belief)\n",
    "            print(\"Corrected Belief: \", belief)\n",
    "            correction_belief_history.append(belief)\n",
    "        return correction_belief_history\n",
    "\n",
    "    def plot_beliefs(self,beliefs):\n",
    "        def update(i,beliefs,bar):\n",
    "            bar.set_3d_properties([beliefs[i].flatten()])\n",
    "\n",
    "        fig = plt.figure()\n",
    "        ax = fig.add_subplot(111, projection='3d')\n",
    "        x_data, y_data = np.meshgrid(np.arange(beliefs[0].shape[1]),np.arange(beliefs[0].shape[0]))\n",
    "        x_data = x_data.flatten()\n",
    "        y_data = y_data.flatten()\n",
    "        z_data = beliefs[0].flatten()\n",
    "        bar = ax.bar3d(x_data,\n",
    "                 y_data,\n",
    "                 np.zeros(len(z_data)),\n",
    "                        1, 1, z_data, alpha=0.5)\n",
    "        \n",
    "        anim = animation.FuncAnimation(fig,update,len(beliefs),fargs=(beliefs,bar), interval=1000, blit=False)\n",
    "        anim.save('mymovie.mp4',writer=animation.FFMpegWriter(fps=10))\n",
    "        plt.show()\n",
    "\n"
   ]
  },
  {
   "cell_type": "code",
   "execution_count": 220,
   "metadata": {},
   "outputs": [],
   "source": [
    "trans = np.eye(9,9)\n",
    "prior = np.ones((3,3))/9\n",
    "state = np.zeros((3,3))\n",
    "state[2,1] = 1"
   ]
  },
  {
   "cell_type": "code",
   "execution_count": 221,
   "metadata": {},
   "outputs": [
    {
     "output_type": "execute_result",
     "data": {
      "text/plain": [
       "array([[0., 0., 0.],\n",
       "       [0., 0., 0.],\n",
       "       [0., 1., 0.]])"
      ]
     },
     "metadata": {},
     "execution_count": 221
    }
   ],
   "source": [
    "state"
   ]
  },
  {
   "cell_type": "code",
   "execution_count": 222,
   "metadata": {},
   "outputs": [],
   "source": [
    "hmm = HMM(trans,B,prior,state)"
   ]
  },
  {
   "cell_type": "code",
   "execution_count": 223,
   "metadata": {},
   "outputs": [
    {
     "output_type": "stream",
     "name": "stdout",
     "text": [
      "Transition Model Belief:  [[0.11111111 0.11111111 0.11111111]\n [0.11111111 0.11111111 0.11111111]\n [0.11111111 0.11111111 0.11111111]]\nCorrected Belief:  [[0.01791292 0.12937109 0.12937109]\n [0.12937109 0.12937109 0.07648947]\n [0.12937109 0.12937109 0.12937109]]\nTransition Model Belief:  [[0.01791292 0.12937109 0.12937109]\n [0.12937109 0.12937109 0.07648947]\n [0.12937109 0.12937109 0.12937109]]\nCorrected Belief:  [[0.02351363 0.16982069 0.00304068]\n [0.16982069 0.02393728 0.10040494]\n [0.16982069 0.16982069 0.16982069]]\nTransition Model Belief:  [[0.02351363 0.16982069 0.00304068]\n [0.16982069 0.02393728 0.10040494]\n [0.16982069 0.16982069 0.16982069]]\nCorrected Belief:  [[0.04159239 0.04410193 0.00537854]\n [0.04410193 0.04234176 0.17760254]\n [0.04410193 0.30038949 0.30038949]]\nTransition Model Belief:  [[0.04159239 0.04410193 0.00537854]\n [0.04410193 0.04234176 0.17760254]\n [0.04410193 0.30038949 0.30038949]]\nCorrected Belief:  [[0.04860187 0.05153434 0.00628498]\n [0.00670035 0.04947753 0.20753354]\n [0.05153434 0.35101352 0.22731953]]\nTransition Model Belief:  [[0.04860187 0.05153434 0.00628498]\n [0.00670035 0.04947753 0.20753354]\n [0.05153434 0.35101352 0.22731953]]\nCorrected Belief:  [[0.04267411 0.04524891 0.00551842]\n [0.00588314 0.04344297 0.00357821]\n [0.04524891 0.30820189 0.50020344]]\nTransition Model Belief:  [[0.04267411 0.04524891 0.00551842]\n [0.00588314 0.04344297 0.00357821]\n [0.04524891 0.30820189 0.50020344]]\nCorrected Belief:  [[0.15471669 0.00545354 0.00511012]\n [0.0006845  0.04022866 0.00331346]\n [0.04190098 0.28539827 0.46319378]]\nTransition Model Belief:  [[0.15471669 0.00545354 0.00511012]\n [0.0006845  0.04022866 0.00331346]\n [0.04190098 0.28539827 0.46319378]]\nCorrected Belief:  [[9.17538030e-02 3.23419132e-03 3.03052601e-03]\n [4.05941581e-04 2.38573627e-02 2.46342501e-04]\n [2.48491251e-02 3.81031615e-01 4.71591093e-01]]\nTransition Model Belief:  [[9.17538030e-02 3.23419132e-03 3.03052601e-03]\n [4.05941581e-04 2.38573627e-02 2.46342501e-04]\n [2.48491251e-02 3.81031615e-01 4.71591093e-01]]\nCorrected Belief:  [[1.44174798e-01 6.37047414e-04 2.12037938e-02]\n [6.37865062e-04 3.74876062e-02 3.87083468e-04]\n [3.90459846e-02 5.98723478e-01 1.57702344e-01]]\nTransition Model Belief:  [[1.44174798e-01 6.37047414e-04 2.12037938e-02]\n [6.37865062e-04 3.74876062e-02 3.87083468e-04]\n [3.90459846e-02 5.98723478e-01 1.57702344e-01]]\nCorrected Belief:  [[1.39003609e-01 2.75774269e-03 8.56391396e-02]\n [6.14986440e-04 4.67109719e-03 3.73199754e-04]\n [3.76455030e-02 5.77248767e-01 1.52045956e-01]]\nTransition Model Belief:  [[1.39003609e-01 2.75774269e-03 8.56391396e-02]\n [6.14986440e-04 4.67109719e-03 3.73199754e-04]\n [3.76455030e-02 5.77248767e-01 1.52045956e-01]]\nCorrected Belief:  [[1.22628695e-01 2.43287487e-03 7.55506709e-02]\n [5.42539759e-04 4.12083222e-03 3.29236047e-04]\n [3.32107844e-02 7.58719613e-01 2.46475382e-03]]\nTransition Model Belief:  [[1.22628695e-01 2.43287487e-03 7.55506709e-02]\n [5.42539759e-04 4.12083222e-03 3.29236047e-04]\n [3.32107844e-02 7.58719613e-01 2.46475382e-03]]\nCorrected Belief:  [[8.86837739e-02 1.75942935e-03 1.94450480e-01]\n [3.92359010e-04 1.32199696e-02 2.38100024e-04]\n [2.40176877e-02 6.75455717e-01 1.78248387e-03]]\nTransition Model Belief:  [[8.86837739e-02 1.75942935e-03 1.94450480e-01]\n [3.92359010e-04 1.32199696e-02 2.38100024e-04]\n [2.40176877e-02 6.75455717e-01 1.78248387e-03]]\nCorrected Belief:  [[7.23158477e-02 2.24560826e-05 1.58561715e-01]\n [3.19943245e-04 1.07800251e-02 1.94155078e-04]\n [1.95848617e-02 7.36767497e-01 1.45349962e-03]]\nTransition Model Belief:  [[7.23158477e-02 2.24560826e-05 1.58561715e-01]\n [3.19943245e-04 1.07800251e-02 1.94155078e-04]\n [1.95848617e-02 7.36767497e-01 1.45349962e-03]]\nCorrected Belief:  [[1.04856108e-02 1.09792859e-04 1.72289993e-01]\n [3.47643940e-04 1.17133600e-02 2.10965030e-04]\n [2.70644462e-03 8.00556847e-01 1.57934366e-03]]\nTransition Model Belief:  [[1.04856108e-02 1.09792859e-04 1.72289993e-01]\n [3.47643940e-04 1.17133600e-02 2.10965030e-04]\n [2.70644462e-03 8.00556847e-01 1.57934366e-03]]\nCorrected Belief:  [[1.33734661e-03 1.10997022e-04 1.74179597e-01]\n [4.39454620e-05 1.18418272e-02 2.13278807e-04]\n [2.73612778e-03 8.09337020e-01 1.99859346e-04]]\nTransition Model Belief:  [[1.33734661e-03 1.10997022e-04 1.74179597e-01]\n [4.39454620e-05 1.18418272e-02 2.13278807e-04]\n [2.73612778e-03 8.09337020e-01 1.99859346e-04]]\nCorrected Belief:  [[3.44091329e-03 2.85588734e-04 6.60921311e-02]\n [1.13069060e-04 3.04683171e-02 5.48753683e-04]\n [7.03989402e-03 8.91947044e-01 6.42895190e-05]]\nTransition Model Belief:  [[3.44091329e-03 2.85588734e-04 6.60921311e-02]\n [1.13069060e-04 3.04683171e-02 5.48753683e-04]\n [7.03989402e-03 8.91947044e-01 6.42895190e-05]]\nCorrected Belief:  [[3.53496065e-03 2.93394473e-04 6.78985674e-02]\n [6.53429364e-05 4.01980202e-03 5.63752270e-04]\n [7.23230907e-03 9.16325824e-01 6.60466862e-05]]\nTransition Model Belief:  [[3.53496065e-03 2.93394473e-04 6.78985674e-02]\n [6.53429364e-05 4.01980202e-03 5.63752270e-04]\n [7.23230907e-03 9.16325824e-01 6.60466862e-05]]\nCorrected Belief:  [[3.78888561e-03 3.93188092e-05 1.21856960e-03]\n [7.00366809e-05 4.30855433e-03 6.04247989e-04]\n [7.75182370e-03 9.82147772e-01 7.07909828e-05]]\nTransition Model Belief:  [[3.78888561e-03 3.93188092e-05 1.21856960e-03]\n [7.00366809e-05 4.30855433e-03 6.04247989e-04]\n [7.75182370e-03 9.82147772e-01 7.07909828e-05]]\nCorrected Belief:  [[3.79011948e-03 3.93316137e-05 1.21896644e-03]\n [8.75797281e-06 4.30995744e-03 3.40090086e-04]\n [7.75434813e-03 9.82467615e-01 7.08140363e-05]]\nTransition Model Belief:  [[3.79011948e-03 3.93316137e-05 1.21896644e-03]\n [8.75797281e-06 4.30995744e-03 3.40090086e-04]\n [7.75434813e-03 9.82467615e-01 7.08140363e-05]]\nCorrected Belief:  [[4.76930461e-04 2.21983781e-05 1.22304159e-03]\n [8.78725180e-06 4.32436617e-03 3.41227050e-04]\n [7.78027188e-03 9.85752126e-01 7.10507765e-05]]\nTransition Model Belief:  [[4.76930461e-04 2.21983781e-05 1.22304159e-03]\n [8.78725180e-06 4.32436617e-03 3.41227050e-04]\n [7.78027188e-03 9.85752126e-01 7.10507765e-05]]\nCorrected Belief:  [[4.77106276e-04 2.22065612e-05 1.22349245e-03]\n [8.79049111e-06 4.32596029e-03 4.26818486e-05]\n [7.78313998e-03 9.86115511e-01 1.11065531e-06]]\nTransition Model Belief:  [[4.77106276e-04 2.22065612e-05 1.22349245e-03]\n [8.79049111e-06 4.32596029e-03 4.26818486e-05]\n [7.78313998e-03 9.86115511e-01 1.11065531e-06]]\nCorrected Belief:  [[4.77119680e-04 2.77595208e-06 1.22352683e-03]\n [1.09885071e-06 4.32608183e-03 4.26830477e-05]\n [7.78335865e-03 9.86143216e-01 1.38835949e-07]]\nTransition Model Belief:  [[4.77119680e-04 2.77595208e-06 1.22352683e-03]\n [1.09885071e-06 4.32608183e-03 4.26830477e-05]\n [7.78335865e-03 9.86143216e-01 1.38835949e-07]]\nCorrected Belief:  [[4.72065520e-04 2.74654623e-06 1.21056592e-03]\n [1.08721051e-06 4.28025535e-03 5.27906008e-06]\n [7.70090901e-03 9.86327074e-01 1.71706585e-08]]\nTransition Model Belief:  [[4.72065520e-04 2.74654623e-06 1.21056592e-03]\n [1.08721051e-06 4.28025535e-03 5.27906008e-06]\n [7.70090901e-03 9.86327074e-01 1.71706585e-08]]\nCorrected Belief:  [[4.68850973e-04 3.40981261e-07 1.20232253e-03]\n [1.07980712e-06 5.33386251e-04 5.24311213e-06]\n [7.64846940e-03 9.90140290e-01 1.70537343e-08]]\nTransition Model Belief:  [[4.68850973e-04 3.40981261e-07 1.20232253e-03]\n [1.07980712e-06 5.33386251e-04 5.24311213e-06]\n [7.64846940e-03 9.90140290e-01 1.70537343e-08]]\nCorrected Belief:  [[5.86548103e-05 3.41123084e-07 1.20282261e-03]\n [1.35032157e-07 5.33608100e-04 6.55664618e-07]\n [7.65165060e-03 9.90552115e-01 1.70608273e-08]]\nTransition Model Belief:  [[5.86548103e-05 3.41123084e-07 1.20282261e-03]\n [1.35032157e-07 5.33608100e-04 6.55664618e-07]\n [7.65165060e-03 9.90552115e-01 1.70608273e-08]]\nCorrected Belief:  [[7.33260491e-06 3.41140637e-07 1.20288451e-03]\n [1.68798902e-08 5.33635559e-04 6.55698357e-07]\n [7.65204434e-03 9.90603087e-01 2.13271319e-09]]\nTransition Model Belief:  [[7.33260491e-06 3.41140637e-07 1.20288451e-03]\n [1.68798902e-08 5.33635559e-04 6.55698357e-07]\n [7.65204434e-03 9.90603087e-01 2.13271319e-09]]\nCorrected Belief:  [[9.76275914e-07 3.63358184e-07 1.28122505e-03]\n [8.09065337e-08 5.68389768e-04 6.98402179e-07]\n [8.15040084e-03 9.89997863e-01 2.27161091e-09]]\nTransition Model Belief:  [[9.76275914e-07 3.63358184e-07 1.28122505e-03]\n [8.09065337e-08 5.68389768e-04 6.98402179e-07]\n [8.15040084e-03 9.89997863e-01 2.27161091e-09]]\nCorrected Belief:  [[9.77858880e-07 3.63947345e-07 1.60592845e-04]\n [8.10377183e-08 7.11993322e-05 8.74418774e-08]\n [8.16361617e-03 9.91603079e-01 2.27529417e-09]]\nTransition Model Belief:  [[9.77858880e-07 3.63947345e-07 1.60592845e-04]\n [8.10377183e-08 7.11993322e-05 8.74418774e-08]\n [8.16361617e-03 9.91603079e-01 2.27529417e-09]]\nCorrected Belief:  [[1.22249757e-07 3.63998832e-07 2.00797670e-05]\n [8.10491826e-08 7.12094046e-05 1.09317818e-08]\n [8.16477106e-03 9.91743359e-01 2.27561605e-09]]\nTransition Model Belief:  [[1.22249757e-07 3.63998832e-07 2.00797670e-05]\n [8.10491826e-08 7.12094046e-05 1.09317818e-08]\n [8.16477106e-03 9.91743359e-01 2.27561605e-09]]\nCorrected Belief:  [[1.52812229e-08 3.63998873e-07 2.00797693e-05]\n [8.10491916e-08 7.12094126e-05 6.14912798e-09]\n [8.16477198e-03 9.91743470e-01 2.27561631e-09]]\n"
     ]
    }
   ],
   "source": [
    "beliefs = hmm.run(30)"
   ]
  },
  {
   "cell_type": "code",
   "execution_count": 224,
   "metadata": {},
   "outputs": [
    {
     "output_type": "execute_result",
     "data": {
      "text/plain": [
       "30"
      ]
     },
     "metadata": {},
     "execution_count": 224
    }
   ],
   "source": [
    "len(beliefs)"
   ]
  },
  {
   "cell_type": "code",
   "execution_count": 225,
   "metadata": {},
   "outputs": [
    {
     "output_type": "error",
     "ename": "TypeError",
     "evalue": "set_3d_properties() takes 1 positional argument but 2 were given",
     "traceback": [
      "\u001b[0;31m---------------------------------------------------------------------------\u001b[0m",
      "\u001b[0;31mTypeError\u001b[0m                                 Traceback (most recent call last)",
      "\u001b[0;32m<ipython-input-225-a8e8ddc02994>\u001b[0m in \u001b[0;36m<module>\u001b[0;34m\u001b[0m\n\u001b[0;32m----> 1\u001b[0;31m \u001b[0mhmm\u001b[0m\u001b[0;34m.\u001b[0m\u001b[0mplot_beliefs\u001b[0m\u001b[0;34m(\u001b[0m\u001b[0mbeliefs\u001b[0m\u001b[0;34m)\u001b[0m\u001b[0;34m\u001b[0m\u001b[0;34m\u001b[0m\u001b[0m\n\u001b[0m",
      "\u001b[0;32m<ipython-input-219-d0501dd60898>\u001b[0m in \u001b[0;36mplot_beliefs\u001b[0;34m(self, beliefs)\u001b[0m\n\u001b[1;32m     42\u001b[0m \u001b[0;34m\u001b[0m\u001b[0m\n\u001b[1;32m     43\u001b[0m         \u001b[0manim\u001b[0m \u001b[0;34m=\u001b[0m \u001b[0manimation\u001b[0m\u001b[0;34m.\u001b[0m\u001b[0mFuncAnimation\u001b[0m\u001b[0;34m(\u001b[0m\u001b[0mfig\u001b[0m\u001b[0;34m,\u001b[0m\u001b[0mupdate\u001b[0m\u001b[0;34m,\u001b[0m\u001b[0mlen\u001b[0m\u001b[0;34m(\u001b[0m\u001b[0mbeliefs\u001b[0m\u001b[0;34m)\u001b[0m\u001b[0;34m,\u001b[0m\u001b[0mfargs\u001b[0m\u001b[0;34m=\u001b[0m\u001b[0;34m(\u001b[0m\u001b[0mbeliefs\u001b[0m\u001b[0;34m,\u001b[0m\u001b[0mbar\u001b[0m\u001b[0;34m)\u001b[0m\u001b[0;34m,\u001b[0m \u001b[0minterval\u001b[0m\u001b[0;34m=\u001b[0m\u001b[0;36m1000\u001b[0m\u001b[0;34m,\u001b[0m \u001b[0mblit\u001b[0m\u001b[0;34m=\u001b[0m\u001b[0;32mFalse\u001b[0m\u001b[0;34m)\u001b[0m\u001b[0;34m\u001b[0m\u001b[0;34m\u001b[0m\u001b[0m\n\u001b[0;32m---> 44\u001b[0;31m         \u001b[0manim\u001b[0m\u001b[0;34m.\u001b[0m\u001b[0msave\u001b[0m\u001b[0;34m(\u001b[0m\u001b[0;34m'mymovie.mp4'\u001b[0m\u001b[0;34m,\u001b[0m\u001b[0mwriter\u001b[0m\u001b[0;34m=\u001b[0m\u001b[0manimation\u001b[0m\u001b[0;34m.\u001b[0m\u001b[0mFFMpegWriter\u001b[0m\u001b[0;34m(\u001b[0m\u001b[0mfps\u001b[0m\u001b[0;34m=\u001b[0m\u001b[0;36m10\u001b[0m\u001b[0;34m)\u001b[0m\u001b[0;34m)\u001b[0m\u001b[0;34m\u001b[0m\u001b[0;34m\u001b[0m\u001b[0m\n\u001b[0m\u001b[1;32m     45\u001b[0m         \u001b[0mplt\u001b[0m\u001b[0;34m.\u001b[0m\u001b[0mshow\u001b[0m\u001b[0;34m(\u001b[0m\u001b[0;34m)\u001b[0m\u001b[0;34m\u001b[0m\u001b[0;34m\u001b[0m\u001b[0m\n\u001b[1;32m     46\u001b[0m \u001b[0;34m\u001b[0m\u001b[0m\n",
      "\u001b[0;32m~/opt/anaconda3/envs/pm/lib/python3.8/site-packages/matplotlib/animation.py\u001b[0m in \u001b[0;36msave\u001b[0;34m(self, filename, writer, fps, dpi, codec, bitrate, extra_args, metadata, extra_anim, savefig_kwargs, progress_callback)\u001b[0m\n\u001b[1;32m   1133\u001b[0m                 \u001b[0;32mfor\u001b[0m \u001b[0manim\u001b[0m \u001b[0;32min\u001b[0m \u001b[0mall_anim\u001b[0m\u001b[0;34m:\u001b[0m\u001b[0;34m\u001b[0m\u001b[0;34m\u001b[0m\u001b[0m\n\u001b[1;32m   1134\u001b[0m                     \u001b[0;31m# Clear the initial frame\u001b[0m\u001b[0;34m\u001b[0m\u001b[0;34m\u001b[0m\u001b[0;34m\u001b[0m\u001b[0m\n\u001b[0;32m-> 1135\u001b[0;31m                     \u001b[0manim\u001b[0m\u001b[0;34m.\u001b[0m\u001b[0m_init_draw\u001b[0m\u001b[0;34m(\u001b[0m\u001b[0;34m)\u001b[0m\u001b[0;34m\u001b[0m\u001b[0;34m\u001b[0m\u001b[0m\n\u001b[0m\u001b[1;32m   1136\u001b[0m                 \u001b[0mframe_number\u001b[0m \u001b[0;34m=\u001b[0m \u001b[0;36m0\u001b[0m\u001b[0;34m\u001b[0m\u001b[0;34m\u001b[0m\u001b[0m\n\u001b[1;32m   1137\u001b[0m                 \u001b[0;31m# TODO: Currently only FuncAnimation has a save_count\u001b[0m\u001b[0;34m\u001b[0m\u001b[0;34m\u001b[0m\u001b[0;34m\u001b[0m\u001b[0m\n",
      "\u001b[0;32m~/opt/anaconda3/envs/pm/lib/python3.8/site-packages/matplotlib/animation.py\u001b[0m in \u001b[0;36m_init_draw\u001b[0;34m(self)\u001b[0m\n\u001b[1;32m   1741\u001b[0m         \u001b[0;31m# artists.\u001b[0m\u001b[0;34m\u001b[0m\u001b[0;34m\u001b[0m\u001b[0;34m\u001b[0m\u001b[0m\n\u001b[1;32m   1742\u001b[0m         \u001b[0;32mif\u001b[0m \u001b[0mself\u001b[0m\u001b[0;34m.\u001b[0m\u001b[0m_init_func\u001b[0m \u001b[0;32mis\u001b[0m \u001b[0;32mNone\u001b[0m\u001b[0;34m:\u001b[0m\u001b[0;34m\u001b[0m\u001b[0;34m\u001b[0m\u001b[0m\n\u001b[0;32m-> 1743\u001b[0;31m             \u001b[0mself\u001b[0m\u001b[0;34m.\u001b[0m\u001b[0m_draw_frame\u001b[0m\u001b[0;34m(\u001b[0m\u001b[0mnext\u001b[0m\u001b[0;34m(\u001b[0m\u001b[0mself\u001b[0m\u001b[0;34m.\u001b[0m\u001b[0mnew_frame_seq\u001b[0m\u001b[0;34m(\u001b[0m\u001b[0;34m)\u001b[0m\u001b[0;34m)\u001b[0m\u001b[0;34m)\u001b[0m\u001b[0;34m\u001b[0m\u001b[0;34m\u001b[0m\u001b[0m\n\u001b[0m\u001b[1;32m   1744\u001b[0m \u001b[0;34m\u001b[0m\u001b[0m\n\u001b[1;32m   1745\u001b[0m         \u001b[0;32melse\u001b[0m\u001b[0;34m:\u001b[0m\u001b[0;34m\u001b[0m\u001b[0;34m\u001b[0m\u001b[0m\n",
      "\u001b[0;32m~/opt/anaconda3/envs/pm/lib/python3.8/site-packages/matplotlib/animation.py\u001b[0m in \u001b[0;36m_draw_frame\u001b[0;34m(self, framedata)\u001b[0m\n\u001b[1;32m   1764\u001b[0m         \u001b[0;31m# Call the func with framedata and args. If blitting is desired,\u001b[0m\u001b[0;34m\u001b[0m\u001b[0;34m\u001b[0m\u001b[0;34m\u001b[0m\u001b[0m\n\u001b[1;32m   1765\u001b[0m         \u001b[0;31m# func needs to return a sequence of any artists that were modified.\u001b[0m\u001b[0;34m\u001b[0m\u001b[0;34m\u001b[0m\u001b[0;34m\u001b[0m\u001b[0m\n\u001b[0;32m-> 1766\u001b[0;31m         \u001b[0mself\u001b[0m\u001b[0;34m.\u001b[0m\u001b[0m_drawn_artists\u001b[0m \u001b[0;34m=\u001b[0m \u001b[0mself\u001b[0m\u001b[0;34m.\u001b[0m\u001b[0m_func\u001b[0m\u001b[0;34m(\u001b[0m\u001b[0mframedata\u001b[0m\u001b[0;34m,\u001b[0m \u001b[0;34m*\u001b[0m\u001b[0mself\u001b[0m\u001b[0;34m.\u001b[0m\u001b[0m_args\u001b[0m\u001b[0;34m)\u001b[0m\u001b[0;34m\u001b[0m\u001b[0;34m\u001b[0m\u001b[0m\n\u001b[0m\u001b[1;32m   1767\u001b[0m         \u001b[0;32mif\u001b[0m \u001b[0mself\u001b[0m\u001b[0;34m.\u001b[0m\u001b[0m_blit\u001b[0m\u001b[0;34m:\u001b[0m\u001b[0;34m\u001b[0m\u001b[0;34m\u001b[0m\u001b[0m\n\u001b[1;32m   1768\u001b[0m             \u001b[0;32mif\u001b[0m \u001b[0mself\u001b[0m\u001b[0;34m.\u001b[0m\u001b[0m_drawn_artists\u001b[0m \u001b[0;32mis\u001b[0m \u001b[0;32mNone\u001b[0m\u001b[0;34m:\u001b[0m\u001b[0;34m\u001b[0m\u001b[0;34m\u001b[0m\u001b[0m\n",
      "\u001b[0;32m<ipython-input-219-d0501dd60898>\u001b[0m in \u001b[0;36mupdate\u001b[0;34m(i, beliefs, bar)\u001b[0m\n\u001b[1;32m     28\u001b[0m     \u001b[0;32mdef\u001b[0m \u001b[0mplot_beliefs\u001b[0m\u001b[0;34m(\u001b[0m\u001b[0mself\u001b[0m\u001b[0;34m,\u001b[0m\u001b[0mbeliefs\u001b[0m\u001b[0;34m)\u001b[0m\u001b[0;34m:\u001b[0m\u001b[0;34m\u001b[0m\u001b[0;34m\u001b[0m\u001b[0m\n\u001b[1;32m     29\u001b[0m         \u001b[0;32mdef\u001b[0m \u001b[0mupdate\u001b[0m\u001b[0;34m(\u001b[0m\u001b[0mi\u001b[0m\u001b[0;34m,\u001b[0m\u001b[0mbeliefs\u001b[0m\u001b[0;34m,\u001b[0m\u001b[0mbar\u001b[0m\u001b[0;34m)\u001b[0m\u001b[0;34m:\u001b[0m\u001b[0;34m\u001b[0m\u001b[0;34m\u001b[0m\u001b[0m\n\u001b[0;32m---> 30\u001b[0;31m             \u001b[0mbar\u001b[0m\u001b[0;34m.\u001b[0m\u001b[0mset_3d_properties\u001b[0m\u001b[0;34m(\u001b[0m\u001b[0;34m[\u001b[0m\u001b[0mbeliefs\u001b[0m\u001b[0;34m[\u001b[0m\u001b[0mi\u001b[0m\u001b[0;34m]\u001b[0m\u001b[0;34m.\u001b[0m\u001b[0mflatten\u001b[0m\u001b[0;34m(\u001b[0m\u001b[0;34m)\u001b[0m\u001b[0;34m]\u001b[0m\u001b[0;34m)\u001b[0m\u001b[0;34m\u001b[0m\u001b[0;34m\u001b[0m\u001b[0m\n\u001b[0m\u001b[1;32m     31\u001b[0m \u001b[0;34m\u001b[0m\u001b[0m\n\u001b[1;32m     32\u001b[0m         \u001b[0mfig\u001b[0m \u001b[0;34m=\u001b[0m \u001b[0mplt\u001b[0m\u001b[0;34m.\u001b[0m\u001b[0mfigure\u001b[0m\u001b[0;34m(\u001b[0m\u001b[0;34m)\u001b[0m\u001b[0;34m\u001b[0m\u001b[0;34m\u001b[0m\u001b[0m\n",
      "\u001b[0;31mTypeError\u001b[0m: set_3d_properties() takes 1 positional argument but 2 were given"
     ]
    }
   ],
   "source": [
    "hmm.plot_beliefs(beliefs)"
   ]
  },
  {
   "cell_type": "code",
   "execution_count": null,
   "metadata": {},
   "outputs": [],
   "source": []
  }
 ]
}